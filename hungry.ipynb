{
 "cells": [
  {
   "cell_type": "code",
   "execution_count": 5,
   "id": "c6e1044c",
   "metadata": {},
   "outputs": [
    {
     "name": "stdout",
     "output_type": "stream",
     "text": [
      "eat samosa\n",
      "eat pizza\n",
      "eat burger\n"
     ]
    }
   ],
   "source": [
    "stri = 'hungry'\n",
    "\n",
    "if stri == 'hungry':\n",
    "    print('eat samosa')\n",
    "    print('eat pizza')\n",
    "    print('eat burger')\n",
    "else:\n",
    "    print('do your homework')\n"
   ]
  }
 ],
 "metadata": {
  "kernelspec": {
   "display_name": "Python 3 (ipykernel)",
   "language": "python",
   "name": "python3"
  },
  "language_info": {
   "codemirror_mode": {
    "name": "ipython",
    "version": 3
   },
   "file_extension": ".py",
   "mimetype": "text/x-python",
   "name": "python",
   "nbconvert_exporter": "python",
   "pygments_lexer": "ipython3",
   "version": "3.9.7"
  }
 },
 "nbformat": 4,
 "nbformat_minor": 5
}
